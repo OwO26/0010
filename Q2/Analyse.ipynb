{
 "cells": [
  {
   "cell_type": "code",
   "execution_count": 1,
   "id": "4fe18732-ea00-475e-8c6a-19c1670bcac9",
   "metadata": {},
   "outputs": [],
   "source": [
    "import numpy as np\n",
    "import pandas as pd\n",
    "import geopandas as gpd\n",
    "import seaborn as sns\n",
    "import matplotlib.pyplot as plt\n",
    "import matplotlib as mpl\n",
    "import libpysal as ps\n",
    "from shapely.geometry import Point, Polygon\n",
    "from pandas.core.frame import DataFrame"
   ]
  },
  {
   "cell_type": "code",
   "execution_count": 2,
   "id": "f507a2aa-4447-4475-b35a-89381f70b726",
   "metadata": {},
   "outputs": [],
   "source": [
    "fth=pd.read_csv('output_data/factory_to_hospital.csv')\n",
    "ftp=pd.read_csv(\"output_data/factory_to_park.csv\")\n",
    "fts=pd.read_csv(\"output_data/factory_to_shop.csv\")\n",
    "\n",
    "farmth=pd.read_csv('output_data/farm_to_hospital.csv')\n",
    "farmtp=pd.read_csv('output_data/farm_to_park.csv')\n",
    "farmts=pd.read_csv(\"output_data/farm_to_shop.csv\")\n",
    "\n",
    "oth=pd.read_csv(\"output_data/office_to_hospital.csv\")\n",
    "otp=pd.read_csv('output_data/office_to_park.csv')\n",
    "ots=pd.read_csv('output_data/office_to_shop.csv')\n",
    "\n",
    "hth=pd.read_csv(\"output_data/resident_high_to_hospital.csv\")\n",
    "htp=pd.read_csv(\"output_data/resident_high_to_park.csv\")\n",
    "hts=pd.read_csv('output_data/resident_high_to_shop.csv')\n",
    "\n",
    "lth=pd.read_csv(\"output_data/resident_low_to_hospital.csv\")\n",
    "ltp=pd.read_csv(\"output_data/resident_low_to_park.csv\")\n",
    "lts=pd.read_csv('output_data/resident_low_to_shop.csv')\n",
    "\n",
    "mth=pd.read_csv(\"output_data/resident_medium_to_hospital.csv\")\n",
    "mtp=pd.read_csv(\"output_data/resident_medium_to_park.csv\")\n",
    "mts=pd.read_csv('output_data/resident_medium_to_shop.csv')"
   ]
  },
  {
   "cell_type": "code",
   "execution_count": null,
   "id": "088185d5-6615-404f-b98d-2e0d099d577f",
   "metadata": {},
   "outputs": [],
   "source": [
    "#Choose the shortest path\n",
    "h_mtt={'office':oth['Min_traffic_time'],\n",
    "       'factory':fth['Min_traffic_time'],\n",
    "       'farm':farmth['Min_traffic_time'],\n",
    "       'high-priced housing':hth['Min_traffic_time'],\n",
    "       'mid-priced housing':mth['Min_traffic_time'],\n",
    "       'low-priced housing':lth['Min_traffic_time']}\n",
    "h_mtt=DataFrame(h_mtt)\n",
    "\n",
    "p_mtt={'office':otp['Min_traffic_time'],\n",
    "       'factory':ftp['Min_traffic_time'],\n",
    "       'farm':farmtp['Min_traffic_time'],\n",
    "       'high-priced housing':htp['Min_traffic_time'],\n",
    "       'mid-priced housing':mtp['Min_traffic_time'],\n",
    "       'low-priced housing':ltp['Min_traffic_time']}\n",
    "p_mtt=DataFrame(p_mtt)\n",
    "\n",
    "s_mtt={'office':ots['Min_traffic_time'],\n",
    "       'factory':fts['Min_traffic_time'],\n",
    "       'farm':farmts['Min_traffic_time'],\n",
    "       'high-priced housing':hts['Min_traffic_time'],\n",
    "       'mid-priced housing':mts['Min_traffic_time'],\n",
    "       'low-priced housing':lts['Min_traffic_time']}\n",
    "s_mtt=DataFrame(s_mtt)\n",
    "\n",
    "# Select the time taken by the metro in the shortest route\n",
    "h_mtmtt={'office':oth['Metro_time_of_min_traffic_time'],\n",
    "       'factory':fth['Metro_time_of_min_traffic_time'],\n",
    "       'farm':farmth['Metro_time_of_min_traffic_time'],\n",
    "       'high-priced housing':hth['Metro_time_of_min_traffic_time'],\n",
    "       'mid-priced housing':mth['Metro_time_of_min_traffic_time'],\n",
    "       'low-priced housing':lth['Metro_time_of_min_traffic_time']}\n",
    "h_mtmtt=DataFrame(h_mtmtt)\n",
    "\n",
    "p_mtmtt={'office':otp['Metro_time_of_min_traffic_time'],\n",
    "       'factory':ftp['Metro_time_of_min_traffic_time'],\n",
    "       'farm':farmtp['Metro_time_of_min_traffic_time'],\n",
    "       'high-priced housing':htp['Metro_time_of_min_traffic_time'],\n",
    "       'mid-priced housing':mtp['Metro_time_of_min_traffic_time'],\n",
    "       'low-priced housing':ltp['Metro_time_of_min_traffic_time']}\n",
    "p_mtmtt=DataFrame(p_mtmtt)\n",
    "\n",
    "s_mtmtt={'office':ots['Metro_time_of_min_traffic_time'],\n",
    "       'factory':fts['Metro_time_of_min_traffic_time'],\n",
    "       'farm':farmts['Metro_time_of_min_traffic_time'],\n",
    "       'high-priced housing':hts['Metro_time_of_min_traffic_time'],\n",
    "       'mid-priced housing':mts['Metro_time_of_min_traffic_time'],\n",
    "       'low-priced housing':lts['Metro_time_of_min_traffic_time']}\n",
    "s_mtmtt=DataFrame(s_mtmtt)"
   ]
  },
  {
   "cell_type": "code",
   "execution_count": 84,
   "id": "26b51599-f25b-4244-84a3-3de66a20ffdc",
   "metadata": {},
   "outputs": [],
   "source": [
    "# Calculate the percentage of time spent by the metro in the shortest route\n",
    "hmtp=h_mtmtt/h_mtt\n",
    "pmtp=p_mtmtt/p_mtt\n",
    "smtp=s_mtmtt/s_mtt"
   ]
  },
  {
   "cell_type": "markdown",
   "id": "6d75e39c-5b38-4e61-915b-cc2543b93a71",
   "metadata": {},
   "source": [
    "## hospital"
   ]
  },
  {
   "cell_type": "code",
   "execution_count": 46,
   "id": "314f89da-86a0-4a64-bbc5-11acb90f659a",
   "metadata": {},
   "outputs": [
    {
     "data": {
      "text/plain": [
       "office                    AxesSubplot(0.125,0.125;0.110714x0.755)\n",
       "factory                AxesSubplot(0.257857,0.125;0.110714x0.755)\n",
       "farm                   AxesSubplot(0.390714,0.125;0.110714x0.755)\n",
       "high-priced housing    AxesSubplot(0.523571,0.125;0.110714x0.755)\n",
       "mid-priced housing     AxesSubplot(0.656429,0.125;0.110714x0.755)\n",
       "low-priced housing     AxesSubplot(0.789286,0.125;0.110714x0.755)\n",
       "dtype: object"
      ]
     },
     "execution_count": 46,
     "metadata": {},
     "output_type": "execute_result"
    },
    {
     "data": {
      "image/png": "[encoded data removed]",
      "text/plain": [
       "<Figure size 1440x360 with 6 Axes>"
      ]
     },
     "metadata": {
      "needs_background": "light"
     },
     "output_type": "display_data"
    }
   ],
   "source": [
    "# When the destination in the shortest route is the hospital, the time taken by the metro\n",
    "h_mtmtt.plot(kind='box',subplots=True,sharex=True,sharey=True,figsize=[20,5])"
   ]
  },
  {
   "cell_type": "code",
   "execution_count": 85,
   "id": "ba2fbfbf-be10-4de8-97f2-d8ee72a91b3b",
   "metadata": {},
   "outputs": [
    {
     "data": {
      "text/plain": [
       "office                    AxesSubplot(0.125,0.125;0.110714x0.755)\n",
       "factory                AxesSubplot(0.257857,0.125;0.110714x0.755)\n",
       "farm                   AxesSubplot(0.390714,0.125;0.110714x0.755)\n",
       "high-priced housing    AxesSubplot(0.523571,0.125;0.110714x0.755)\n",
       "mid-priced housing     AxesSubplot(0.656429,0.125;0.110714x0.755)\n",
       "low-priced housing     AxesSubplot(0.789286,0.125;0.110714x0.755)\n",
       "dtype: object"
      ]
     },
     "execution_count": 85,
     "metadata": {},
     "output_type": "execute_result"
    },
    {
     "data": {
      "image/png": "[encoded data removed]",
      "text/plain": [
       "<Figure size 1440x360 with 6 Axes>"
      ]
     },
     "metadata": {
      "needs_background": "light"
     },
     "output_type": "display_data"
    }
   ],
   "source": [
    "# The proportion of time spent by the metro when the destination in the shortest route is the hospital\n",
    "hmtp.plot(kind='box',subplots=True,sharex=True,sharey=True,figsize=[20,5])"
   ]
  },
  {
   "cell_type": "markdown",
   "id": "c4c75fdf-8ae2-4614-a04a-48acb94543e1",
   "metadata": {},
   "source": [
    "## park"
   ]
  },
  {
   "cell_type": "code",
   "execution_count": 53,
   "id": "9cae8e83-b0a9-4141-a481-946c82372bc2",
   "metadata": {},
   "outputs": [
    {
     "data": {
      "text/plain": [
       "office                    AxesSubplot(0.125,0.125;0.110714x0.755)\n",
       "factory                AxesSubplot(0.257857,0.125;0.110714x0.755)\n",
       "farm                   AxesSubplot(0.390714,0.125;0.110714x0.755)\n",
       "high-priced housing    AxesSubplot(0.523571,0.125;0.110714x0.755)\n",
       "mid-priced housing     AxesSubplot(0.656429,0.125;0.110714x0.755)\n",
       "low-priced housing     AxesSubplot(0.789286,0.125;0.110714x0.755)\n",
       "dtype: object"
      ]
     },
     "execution_count": 53,
     "metadata": {},
     "output_type": "execute_result"
    },
    {
     "data": {
      "image/png": "[encoded data removed]",
      "text/plain": [
       "<Figure size 1440x360 with 6 Axes>"
      ]
     },
     "metadata": {
      "needs_background": "light"
     },
     "output_type": "display_data"
    }
   ],
   "source": [
    "# When the destination in the shortest route is the park, the time taken by the metro\n",
    "p_mtmtt.plot(kind='box',subplots=True,sharex=True,sharey=True,figsize=[20,5])"
   ]
  },
  {
   "cell_type": "code",
   "execution_count": 91,
   "id": "308ae6bc-8354-4a52-8b39-0d900a3b77d2",
   "metadata": {},
   "outputs": [
    {
     "data": {
      "text/plain": [
       "office                    AxesSubplot(0.125,0.125;0.110714x0.755)\n",
       "factory                AxesSubplot(0.257857,0.125;0.110714x0.755)\n",
       "farm                   AxesSubplot(0.390714,0.125;0.110714x0.755)\n",
       "high-priced housing    AxesSubplot(0.523571,0.125;0.110714x0.755)\n",
       "mid-priced housing     AxesSubplot(0.656429,0.125;0.110714x0.755)\n",
       "low-priced housing     AxesSubplot(0.789286,0.125;0.110714x0.755)\n",
       "dtype: object"
      ]
     },
     "execution_count": 91,
     "metadata": {},
     "output_type": "execute_result"
    },
    {
     "data": {
      "image/png": "[encoded data removed]",
      "text/plain": [
       "<Figure size 1440x360 with 6 Axes>"
      ]
     },
     "metadata": {
      "needs_background": "light"
     },
     "output_type": "display_data"
    }
   ],
   "source": [
    "# The proportion of time spent by the metro when the destination in the shortest route is the park\n",
    "pmtp.plot(kind='box',subplots=True,sharex=True,sharey=True,figsize=[20,5])"
   ]
  },
  {
   "cell_type": "markdown",
   "id": "800b8a93-ef29-47b5-a18e-ed03b403288d",
   "metadata": {},
   "source": [
    "# shop"
   ]
  },
  {
   "cell_type": "code",
   "execution_count": 61,
   "id": "fd94be96-db07-45e1-93f0-3cf088d45225",
   "metadata": {},
   "outputs": [
    {
     "data": {
      "text/plain": [
       "office                    AxesSubplot(0.125,0.125;0.110714x0.755)\n",
       "factory                AxesSubplot(0.257857,0.125;0.110714x0.755)\n",
       "farm                   AxesSubplot(0.390714,0.125;0.110714x0.755)\n",
       "high-priced housing    AxesSubplot(0.523571,0.125;0.110714x0.755)\n",
       "mid-priced housing     AxesSubplot(0.656429,0.125;0.110714x0.755)\n",
       "low-priced housing     AxesSubplot(0.789286,0.125;0.110714x0.755)\n",
       "dtype: object"
      ]
     },
     "execution_count": 61,
     "metadata": {},
     "output_type": "execute_result"
    },
    {
     "data": {
      "image/png": "[encoded data removed]",
      "text/plain": [
       "<Figure size 1440x360 with 6 Axes>"
      ]
     },
     "metadata": {
      "needs_background": "light"
     },
     "output_type": "display_data"
    }
   ],
   "source": [
    "# When the destination in the shortest route is the shop, the time taken by the metro\n",
    "s_mtmtt.plot(kind='box',subplots=True,sharex=True,sharey=True,figsize=[20,5])"
   ]
  },
  {
   "cell_type": "code",
   "execution_count": 92,
   "id": "682281bc-b81c-47e1-9764-9ca3fb1d311b",
   "metadata": {},
   "outputs": [
    {
     "data": {
      "text/plain": [
       "office                    AxesSubplot(0.125,0.125;0.110714x0.755)\n",
       "factory                AxesSubplot(0.257857,0.125;0.110714x0.755)\n",
       "farm                   AxesSubplot(0.390714,0.125;0.110714x0.755)\n",
       "high-priced housing    AxesSubplot(0.523571,0.125;0.110714x0.755)\n",
       "mid-priced housing     AxesSubplot(0.656429,0.125;0.110714x0.755)\n",
       "low-priced housing     AxesSubplot(0.789286,0.125;0.110714x0.755)\n",
       "dtype: object"
      ]
     },
     "execution_count": 92,
     "metadata": {},
     "output_type": "execute_result"
    },
    {
     "data": {
      "image/png": "[encoded data removed]",
      "text/plain": [
       "<Figure size 1440x360 with 6 Axes>"
      ]
     },
     "metadata": {
      "needs_background": "light"
     },
     "output_type": "display_data"
    }
   ],
   "source": [
    "# The proportion of time spent by the metro when the destination in the shortest route is the shop\n",
    "smtp.plot(kind='box',subplots=True,sharex=True,sharey=True,figsize=[20,5])"
   ]
  },
  {
   "cell_type": "markdown",
   "id": "bd856a4f-88ae-4a62-9cf4-8ba7d73982c7",
   "metadata": {},
   "source": [
    "## Describe"
   ]
  },
  {
   "cell_type": "code",
   "execution_count": 93,
   "id": "b9d4a56c-4871-471f-accd-8ceb4d802559",
   "metadata": {},
   "outputs": [
    {
     "name": "stdout",
     "output_type": "stream",
     "text": [
      "          office    factory       farm  high-priced housing  \\\n",
      "count  69.000000  55.000000  19.000000            28.000000   \n",
      "mean    0.313266   0.303636   0.247354             0.325161   \n",
      "std     0.159679   0.146808   0.113573             0.154976   \n",
      "min     0.079761   0.035510   0.072683             0.086655   \n",
      "25%     0.203252   0.201312   0.137735             0.208392   \n",
      "50%     0.253968   0.276316   0.269791             0.309581   \n",
      "75%     0.405389   0.390639   0.361651             0.454761   \n",
      "max     0.696171   0.676329   0.406933             0.657738   \n",
      "\n",
      "       mid-priced housing  low-priced housing  \n",
      "count           26.000000           20.000000  \n",
      "mean             0.311021            0.193421  \n",
      "std              0.149780            0.114554  \n",
      "min              0.080573            0.017697  \n",
      "25%              0.208335            0.082402  \n",
      "50%              0.287255            0.180022  \n",
      "75%              0.432002            0.287598  \n",
      "max              0.597417            0.393627  \n",
      "          office    factory       farm  high-priced housing  \\\n",
      "count  69.000000  55.000000  19.000000            28.000000   \n",
      "mean    0.307590   0.287557   0.219497             0.274661   \n",
      "std     0.137646   0.136149   0.129458             0.103332   \n",
      "min     0.066563   0.022292   0.048019             0.102916   \n",
      "25%     0.208575   0.189791   0.099972             0.205638   \n",
      "50%     0.304977   0.270629   0.224351             0.258087   \n",
      "75%     0.378682   0.360480   0.297596             0.345643   \n",
      "max     0.663725   0.746182   0.519481             0.489243   \n",
      "\n",
      "       mid-priced housing  low-priced housing  \n",
      "count           26.000000           20.000000  \n",
      "mean             0.230799            0.234224  \n",
      "std              0.110422            0.163717  \n",
      "min              0.079156            0.017905  \n",
      "25%              0.136694            0.097764  \n",
      "50%              0.222000            0.203990  \n",
      "75%              0.315891            0.345392  \n",
      "max              0.468683            0.665962  \n",
      "          office    factory       farm  high-priced housing  \\\n",
      "count  69.000000  55.000000  19.000000            28.000000   \n",
      "mean    0.329760   0.311161   0.306611             0.293154   \n",
      "std     0.163222   0.151580   0.154294             0.142816   \n",
      "min     0.108401   0.018329   0.080902             0.025152   \n",
      "25%     0.194175   0.190959   0.197117             0.183912   \n",
      "50%     0.306644   0.263488   0.307890             0.287594   \n",
      "75%     0.421348   0.438599   0.420010             0.392744   \n",
      "max     0.758621   0.660066   0.628272             0.591537   \n",
      "\n",
      "       mid-priced housing  low-priced housing  \n",
      "count           26.000000           20.000000  \n",
      "mean             0.296818            0.212307  \n",
      "std              0.153427            0.109039  \n",
      "min              0.076110            0.055659  \n",
      "25%              0.139320            0.150368  \n",
      "50%              0.302231            0.197880  \n",
      "75%              0.407006            0.243011  \n",
      "max              0.571569            0.525701  \n"
     ]
    }
   ],
   "source": [
    "print(hmtp.describe())\n",
    "print(pmtp.describe())\n",
    "print(smtp.describe())"
   ]
  }
 ],
 "metadata": {
  "kernelspec": {
   "display_name": "Python 3 (ipykernel)",
   "language": "python",
   "name": "python3"
  },
  "language_info": {
   "codemirror_mode": {
    "name": "ipython",
    "version": 3
   },
   "file_extension": ".py",
   "mimetype": "text/x-python",
   "name": "python",
   "nbconvert_exporter": "python",
   "pygments_lexer": "ipython3",
   "version": "3.9.6"
  }
 },
 "nbformat": 4,
 "nbformat_minor": 5
}
